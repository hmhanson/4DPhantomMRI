{
 "cells": [
  {
   "cell_type": "markdown",
   "metadata": {},
   "source": [
    "This notebook creates a 2D sagittal slice. The slice is transposed to be in x-y plane"
   ]
  },
  {
   "cell_type": "code",
   "execution_count": null,
   "metadata": {},
   "outputs": [],
   "source": [
    "import nibabel as nib\n",
    "import h5py\n",
    "import numpy as np\n",
    "import scipy.ndimage"
   ]
  },
  {
   "cell_type": "code",
   "execution_count": null,
   "metadata": {},
   "outputs": [],
   "source": [
    "filen='sample.h5' #output filename\n",
    "zoom = 4 #zoom factor for increasing number of spins\n",
    "resolution= 2/zoom #sample resultion in mm, assuming same resolution in all dimensions"
   ]
  },
  {
   "cell_type": "code",
   "execution_count": null,
   "metadata": {},
   "outputs": [],
   "source": [
    "#coordinates for the slice\n",
    "x = 82\n",
    "xi = 83\n",
    "y = 60\n",
    "yi = 190\n",
    "z = 85\n",
    "zi = 245"
   ]
  },
  {
   "cell_type": "code",
   "execution_count": null,
   "metadata": {},
   "outputs": [],
   "source": [
    "#load phantom files\n",
    "shape = (281,256,256)\n",
    "pd = np.fromfile(\"Phantom/proton_density_act_1.bin\", dtype=np.float32).reshape(shape)\n",
    "t1 = np.fromfile(\"Phantom/t1_act_1.bin\", dtype=np.float32).reshape(shape)\n",
    "t2 = np.fromfile(\"Phantom/t2_act_1.bin\", dtype=np.float32).reshape(shape)"
   ]
  },
  {
   "cell_type": "code",
   "execution_count": null,
   "metadata": {},
   "outputs": [],
   "source": [
    "#extract slice\n",
    "pd = pd[z:zi,y:yi,x][:,::-1]\n",
    "t1 = t1[z:zi,y:yi,x][:,::-1]\n",
    "t2 = t2[z:zi,y:yi,x][:,::-1]"
   ]
  },
  {
   "cell_type": "code",
   "execution_count": null,
   "metadata": {},
   "outputs": [],
   "source": [
    "#zoom to increase number of spins\n",
    "resized_pd = scipy.ndimage.zoom(pd, zoom, order=0)\n",
    "resized_t1 = scipy.ndimage.zoom(t1, zoom, order=0)\n",
    "resized_t2 = scipy.ndimage.zoom(t2, zoom, order=0)"
   ]
  },
  {
   "cell_type": "code",
   "execution_count": null,
   "metadata": {},
   "outputs": [],
   "source": [
    "jemris_params = np.zeros((resized_pd.shape[0], resized_pd.shape[1], 5))\n",
    "jemris_params[:, :, 0] = resized_pd #proton density\n",
    "jemris_params[:, :, 1] = np.reciprocal(resized_t1, where=resized_t1>0) #T1\n",
    "jemris_params[:, :, 2] = np.reciprocal(resized_t2, where=resized_t2>0) #T2\n",
    "jemris_params[:, :, 3] = jemris_params[:, :, 2] # T2* set as T2\n",
    "# chemical shift values left as 0"
   ]
  },
  {
   "cell_type": "code",
   "execution_count": null,
   "metadata": {},
   "outputs": [],
   "source": [
    "#write file\n",
    "sample_file = h5py.File(filen, \"w\")\n",
    "sample_file.create_dataset(\"sample/data\", data=jemris_params)\n",
    "sample_file.create_dataset(\"sample/resolution\", data=np.array([resolution, resolution, resolution]))\n",
    "sample_file.create_dataset(\"sample/offset\", (3,)) # empty tuple, patient is centred\n",
    "sample_file.close()"
   ]
  },
  {
   "cell_type": "markdown",
   "metadata": {},
   "source": [
    "Motion model"
   ]
  },
  {
   "cell_type": "code",
   "execution_count": null,
   "metadata": {},
   "outputs": [],
   "source": [
    "trace_file='Breathing_traces/cos_trace_shifted.txt' #surrogate trace filename\n",
    "res=100 #distance between timepoints in ms\n",
    "out_file='motion_model_cos_shifted.h5' #output filename"
   ]
  },
  {
   "cell_type": "code",
   "execution_count": null,
   "metadata": {},
   "outputs": [],
   "source": [
    "trace = np.loadtxt(trace_file)"
   ]
  },
  {
   "cell_type": "code",
   "execution_count": null,
   "metadata": {},
   "outputs": [],
   "source": [
    "ap_all=nib.load(\"Phantom/modelComp_ap.nii.gz\").get_fdata() #load AP component file\n",
    "ap_all=ap_all[x:xi,y:yi,z:zi,0,:] #extract slice\n",
    "ap_all=np.transpose(ap_all, (0, 2, 1, 3)) #transpose the slice to x-y plane\n",
    "ap = np.zeros((1,160,130,3))\n",
    "ap[0,:,:,0]=ap_all[0,:,::-1,1] #reorder components since we are changing plane\n",
    "ap[0,:,:,1]=ap_all[0,:,::-1,2]\n",
    "ap[0,:,:,2]=ap_all[0,:,::-1,0]"
   ]
  },
  {
   "cell_type": "code",
   "execution_count": null,
   "metadata": {},
   "outputs": [],
   "source": [
    "si_all=nib.load(\"Phantom/modelComp_si.nii.gz\").get_fdata()\n",
    "si_all=si_all[x:xi,y:yi,z:zi,0,:]\n",
    "si_all = np.transpose(si_all, (0, 2, 1, 3))\n",
    "si = np.zeros((1,160,130,3))\n",
    "si[0,:,:,0]=si_all[0,:,::-1,1]\n",
    "si[0,:,:,1]=si_all[0,:,::-1,2]\n",
    "si[0,:,:,2]=si_all[0,:,::-1,0]"
   ]
  },
  {
   "cell_type": "code",
   "execution_count": null,
   "metadata": {},
   "outputs": [],
   "source": [
    "offset_all=nib.load(\"Phantom/modelComp_offset.nii.gz\").get_fdata()\n",
    "offset_all=offset_all[x:xi,y:yi,z:zi,0,:]\n",
    "offset_all = np.transpose(offset_all, (0, 2, 1, 3))\n",
    "offset = np.zeros((1,160,130,3))\n",
    "offset[0,:,:,0]=offset_all[0,:,::-1,1]\n",
    "offset[0,:,:,1]=offset_all[0,:,::-1,2]\n",
    "offset[0,:,:,2]=offset_all[0,:,::-1,0]"
   ]
  },
  {
   "cell_type": "code",
   "execution_count": null,
   "metadata": {},
   "outputs": [],
   "source": [
    "#write file\n",
    "with h5py.File(out_file, 'w') as motion:\n",
    "    motion_resolution = motion.create_dataset(\"model/resolution\", data=np.array([res, 2, 2, 2]))\n",
    "    motion_offset = motion.create_dataset(\"model/offset\", data=np.array([0, 0, 0]))\n",
    "    motion_ap = motion.create_dataset(\"model/ap\", data=ap)\n",
    "    motion_si = motion.create_dataset(\"model/si\", data=si)\n",
    "    motion_model_offset = motion.create_dataset(\"model/model_offset\", data=offset)\n",
    "    motion_trace = motion.create_dataset(\"model/breathing_trace\", data=trace)"
   ]
  },
  {
   "cell_type": "code",
   "execution_count": null,
   "metadata": {},
   "outputs": [],
   "source": []
  }
 ],
 "metadata": {
  "kernelspec": {
   "display_name": "Python 3",
   "language": "python",
   "name": "python3"
  },
  "language_info": {
   "codemirror_mode": {
    "name": "ipython",
    "version": 3
   },
   "file_extension": ".py",
   "mimetype": "text/x-python",
   "name": "python",
   "nbconvert_exporter": "python",
   "pygments_lexer": "ipython3",
   "version": "3.7.4"
  }
 },
 "nbformat": 4,
 "nbformat_minor": 2
}
